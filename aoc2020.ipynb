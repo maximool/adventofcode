{
 "cells": [
  {
   "cell_type": "markdown",
   "metadata": {},
   "source": [
    "# Advent of Code 2020"
   ]
  },
  {
   "cell_type": "code",
   "execution_count": 1,
   "metadata": {},
   "outputs": [],
   "source": [
    "from csv import reader\n",
    "from functools import reduce\n",
    "from json import dump\n",
    "from pprint import pprint\n",
    "from re import match, split, sub"
   ]
  },
  {
   "cell_type": "markdown",
   "metadata": {},
   "source": [
    "## Day 1"
   ]
  },
  {
   "cell_type": "code",
   "execution_count": 2,
   "metadata": {},
   "outputs": [],
   "source": [
    "# input formatting\n",
    "expense_report = [int(n[0]) for n in reader(open(\"d01/d01.txt\"))]"
   ]
  },
  {
   "cell_type": "code",
   "execution_count": 3,
   "metadata": {},
   "outputs": [],
   "source": [
    "dump(expense_report, open(\"d01/d01.json\", \"wt\"), indent=1)"
   ]
  },
  {
   "cell_type": "code",
   "execution_count": 4,
   "metadata": {},
   "outputs": [
    {
     "name": "stdout",
     "output_type": "stream",
     "text": [
      "618144\n"
     ]
    }
   ],
   "source": [
    "# 1-1\n",
    "def day1_1():\n",
    "    for i in expense_report:\n",
    "        if 2020-i in expense_report:\n",
    "            return(i*(2020-i))\n",
    "\n",
    "print(day1_1())"
   ]
  },
  {
   "cell_type": "code",
   "execution_count": 5,
   "metadata": {},
   "outputs": [
    {
     "name": "stdout",
     "output_type": "stream",
     "text": [
      "173538720\n"
     ]
    }
   ],
   "source": [
    "# 1-2\n",
    "def day1_2():\n",
    "    for i in expense_report:\n",
    "        for j in expense_report:\n",
    "            if 2020-i-j in expense_report and i != j:\n",
    "                return(i*j*(2020-i-j))\n",
    "\n",
    "print(day1_2())"
   ]
  },
  {
   "cell_type": "markdown",
   "metadata": {},
   "source": [
    "## Day 2"
   ]
  },
  {
   "cell_type": "markdown",
   "metadata": {},
   "source": [
    "Previous input formatting (OS-dependent as it requires GNU sed tool):\n",
    "\n",
    "```bash\n",
    "sed -e 's/://g' -e 's/[ -]/,/g' d02/d02.txt > d02/d02.csv\n",
    "```\n",
    "\n",
    "```python\n",
    "password_entries = list(DictReader(open(\"d02/d02.csv\"), fieldnames=['min', 'max', 'char', 'pass']))\n",
    "for entry in password_entries:\n",
    "    entry[\"min\"] = int(entry[\"min\"])\n",
    "    entry[\"max\"] = int(entry[\"max\"])\n",
    "```"
   ]
  },
  {
   "cell_type": "code",
   "execution_count": 6,
   "metadata": {},
   "outputs": [],
   "source": [
    "# input formatting\n",
    "password_entries = []\n",
    "with open(\"d02/d02.txt\") as fl:\n",
    "    for raw_line in fl.read().strip().split(\"\\n\"):\n",
    "        raw_line = raw_line.replace(':', '')\n",
    "        raw_line = raw_line.replace(' ', ',')\n",
    "        raw_line = raw_line.replace('-', ',')\n",
    "        line = raw_line.split(',')\n",
    "        password_entries.append({\n",
    "            \"min\": int(line[0]),\n",
    "            \"max\": int(line[1]),\n",
    "            \"char\": line[2],\n",
    "            \"pass\": line[3]\n",
    "        })"
   ]
  },
  {
   "cell_type": "code",
   "execution_count": 7,
   "metadata": {},
   "outputs": [],
   "source": [
    "dump(password_entries, open(\"d02/d02.json\", \"wt\"), indent=1)"
   ]
  },
  {
   "cell_type": "code",
   "execution_count": 8,
   "metadata": {},
   "outputs": [
    {
     "data": {
      "text/plain": [
       "546"
      ]
     },
     "execution_count": 8,
     "metadata": {},
     "output_type": "execute_result"
    }
   ],
   "source": [
    "# 2-1\n",
    "len(list(filter(lambda x: x[\"min\"] <= x[\"pass\"].count(x[\"char\"]) <= x[\"max\"],\n",
    "                password_entries)))"
   ]
  },
  {
   "cell_type": "code",
   "execution_count": 9,
   "metadata": {},
   "outputs": [
    {
     "data": {
      "text/plain": [
       "275"
      ]
     },
     "execution_count": 9,
     "metadata": {},
     "output_type": "execute_result"
    }
   ],
   "source": [
    "# 2-2\n",
    "def is_password_valid(entry):\n",
    "    valid_positions = set((entry[\"min\"], entry[\"max\"]))\n",
    "    actual_positions = set((i+1\n",
    "                            for i in range(0, len(entry[\"pass\"]))\n",
    "                            if entry[\"pass\"][i] == entry[\"char\"]))\n",
    "    return(len(valid_positions.intersection(actual_positions)) == 1)\n",
    "\n",
    "len(list(filter(lambda x: is_password_valid(x), password_entries)))"
   ]
  },
  {
   "cell_type": "markdown",
   "metadata": {},
   "source": [
    "## Day 3"
   ]
  },
  {
   "cell_type": "code",
   "execution_count": 10,
   "metadata": {},
   "outputs": [],
   "source": [
    "# input formatting\n",
    "biome = []\n",
    "\n",
    "with open(\"d03/d03.txt\") as biome_file:\n",
    "    for line in biome_file.read().split(\"\\n\"):\n",
    "        biome.append(line*100)  # TODO dirty trick\n",
    "    biome.pop()"
   ]
  },
  {
   "cell_type": "code",
   "execution_count": 11,
   "metadata": {},
   "outputs": [],
   "source": [
    "dump(biome, open(\"d03/d03.json\", \"wt\"), indent=1)"
   ]
  },
  {
   "cell_type": "code",
   "execution_count": 12,
   "metadata": {},
   "outputs": [
    {
     "data": {
      "text/plain": [
       "159"
      ]
     },
     "execution_count": 12,
     "metadata": {},
     "output_type": "execute_result"
    }
   ],
   "source": [
    "# 3-1\n",
    "trees_in_path = 0\n",
    "\n",
    "for l in range(1, len(biome)):\n",
    "    if biome[l][l*3] == '#':\n",
    "        trees_in_path += 1\n",
    "\n",
    "trees_in_path"
   ]
  },
  {
   "cell_type": "code",
   "execution_count": 13,
   "metadata": {},
   "outputs": [],
   "source": [
    "# 3-2\n",
    "def check_slopes(biome, move_right, move_down):\n",
    "    trees_in_path = 0\n",
    "\n",
    "    for x in range(move_down, len(biome), move_down):\n",
    "        if biome[x][x//move_down*move_right] == '#':\n",
    "            trees_in_path += 1\n",
    "\n",
    "    return trees_in_path"
   ]
  },
  {
   "cell_type": "code",
   "execution_count": 14,
   "metadata": {},
   "outputs": [
    {
     "data": {
      "text/plain": [
       "6419669520"
      ]
     },
     "execution_count": 14,
     "metadata": {},
     "output_type": "execute_result"
    }
   ],
   "source": [
    "check_slopes(biome, 1, 1)   \\\n",
    "* check_slopes(biome, 3, 1) \\\n",
    "* check_slopes(biome, 5, 1) \\\n",
    "* check_slopes(biome, 7, 1) \\\n",
    "* check_slopes(biome, 1, 2)  # 55"
   ]
  },
  {
   "cell_type": "markdown",
   "metadata": {},
   "source": [
    "## Day 4"
   ]
  },
  {
   "cell_type": "code",
   "execution_count": 15,
   "metadata": {},
   "outputs": [],
   "source": [
    "# input formatting\n",
    "passports = []\n",
    "for raw_passport in map(lambda x: split('\\s', x ),\n",
    "                        split('\\n\\n', open(\"d04/d04.txt\").read().strip())):\n",
    "    passports.append({\n",
    "        k: v\n",
    "        for k, v in (field_string.split(':')\n",
    "                     for field_string in raw_passport)\n",
    "    })"
   ]
  },
  {
   "cell_type": "code",
   "execution_count": 16,
   "metadata": {},
   "outputs": [],
   "source": [
    "dump(passports, open(\"d04/d04.json\", \"wt\"), indent=1)"
   ]
  },
  {
   "cell_type": "code",
   "execution_count": 17,
   "metadata": {},
   "outputs": [
    {
     "data": {
      "text/plain": [
       "237"
      ]
     },
     "execution_count": 17,
     "metadata": {},
     "output_type": "execute_result"
    }
   ],
   "source": [
    "# 4-1\n",
    "len([p for p in passports\n",
    "     if len(p) == 8\n",
    "     or (len(p) == 7 and 'cid' not in p)])"
   ]
  },
  {
   "cell_type": "code",
   "execution_count": 18,
   "metadata": {},
   "outputs": [
    {
     "data": {
      "text/plain": [
       "172"
      ]
     },
     "execution_count": 18,
     "metadata": {},
     "output_type": "execute_result"
    }
   ],
   "source": [
    "# 4-2\n",
    "def is_hgt_valid(h):\n",
    "    if h[-2:] == 'cm':\n",
    "        return 150 <= int(h.replace('cm', '')) <= 193\n",
    "    elif h[-2:] == 'in':\n",
    "        return 59 <= int(h.replace('in', '')) <= 76\n",
    "    else:\n",
    "        return False\n",
    "\n",
    "len([p for p in passports\n",
    "     if (len(p) == 8 or (len(p) == 7 and 'cid' not in p))  # same as 4-1\n",
    "     and 1920 <= int(p[\"byr\"]) <= 2002\n",
    "     and 2010 <= int(p[\"iyr\"]) <= 2020\n",
    "     and 2020 <= int(p[\"eyr\"]) <= 2030\n",
    "     and is_hgt_valid(p[\"hgt\"])\n",
    "     and match(\"^#[0-9a-f]{6}$\", p[\"hcl\"])\n",
    "     and p[\"ecl\"] in {\"amb\", \"blu\", \"brn\", \"gry\", \"grn\", \"hzl\", \"oth\"}\n",
    "     and match(\"^[0-9]{9}$\", p[\"pid\"])])"
   ]
  },
  {
   "cell_type": "markdown",
   "metadata": {},
   "source": [
    "## Day 5"
   ]
  },
  {
   "cell_type": "code",
   "execution_count": 19,
   "metadata": {},
   "outputs": [],
   "source": [
    "# input formatting\n",
    "def row_reducer(row_string):\n",
    "    row_number = 0\n",
    "    for i in range(0, len(row_string)):\n",
    "        row_number += 2**(len(row_string)-i-1) if row_string[i] == \"B\" else 0\n",
    "    return row_number//8\n",
    "\n",
    "def column_reducer(column_string):\n",
    "    column_number = 0\n",
    "    for i in range(0, len(column_string)):\n",
    "        column_number += 2**(len(column_string)-i-1) if column_string[i] == \"R\" else 0\n",
    "    return column_number\n",
    "\n",
    "seats = []\n",
    "for line in open(\"d05/d05.txt\").read().strip().split():\n",
    "    seats.append({\n",
    "        \"row\": row_reducer(line),\n",
    "        \"column\": column_reducer(line),\n",
    "        \"id\": row_reducer(line)*8 + column_reducer(line)\n",
    "    })"
   ]
  },
  {
   "cell_type": "code",
   "execution_count": 20,
   "metadata": {},
   "outputs": [],
   "source": [
    "dump(seats, open(\"d05/d05.json\", \"wt\"), indent=1)"
   ]
  },
  {
   "cell_type": "code",
   "execution_count": 21,
   "metadata": {},
   "outputs": [
    {
     "data": {
      "text/plain": [
       "835"
      ]
     },
     "execution_count": 21,
     "metadata": {},
     "output_type": "execute_result"
    }
   ],
   "source": [
    "# 5-1\n",
    "max((s[\"id\"] for s in seats))"
   ]
  },
  {
   "cell_type": "code",
   "execution_count": 22,
   "metadata": {},
   "outputs": [
    {
     "name": "stdout",
     "output_type": "stream",
     "text": [
      "649\n"
     ]
    }
   ],
   "source": [
    "# 5-2\n",
    "seat_ids = [s[\"id\"] for s in seats]\n",
    "seat_ids.sort()\n",
    "\n",
    "for sid in range(seat_ids[0], seat_ids[-1]):\n",
    "    if (sid not in seat_ids\n",
    "            and sid-1 in seat_ids\n",
    "            and sid+1 in seat_ids):\n",
    "        print(sid)"
   ]
  },
  {
   "cell_type": "markdown",
   "metadata": {},
   "source": [
    "## Day 6"
   ]
  },
  {
   "cell_type": "code",
   "execution_count": 23,
   "metadata": {},
   "outputs": [],
   "source": [
    "# input formatting\n",
    "grouped_form_answers = split('\\n\\n', open(\"d06/d06.txt\").read().strip())"
   ]
  },
  {
   "cell_type": "code",
   "execution_count": 24,
   "metadata": {},
   "outputs": [
    {
     "data": {
      "text/plain": [
       "6587"
      ]
     },
     "execution_count": 24,
     "metadata": {},
     "output_type": "execute_result"
    }
   ],
   "source": [
    "# 6-1\n",
    "reduce(lambda x, y: x+y,\n",
    "       map(lambda group_answer: len(set(group_answer.replace(\"\\n\", \"\"))),\n",
    "           grouped_form_answers))"
   ]
  },
  {
   "cell_type": "code",
   "execution_count": 25,
   "metadata": {},
   "outputs": [],
   "source": [
    "# 6-2\n",
    "grouped_yes = []\n",
    "\n",
    "for group_answer in grouped_form_answers:\n",
    "    group_answer_by_person = group_answer.split(\"\\n\")\n",
    "    everyone_answered_yes = 0\n",
    "\n",
    "    for question_letter in set(group_answer.replace(\"\\n\", \"\")):\n",
    "        if (len(list(filter(lambda person_answer: question_letter in person_answer, group_answer_by_person)))\n",
    "                == len(group_answer_by_person)):\n",
    "            everyone_answered_yes += 1\n",
    "\n",
    "    grouped_yes.append(everyone_answered_yes)"
   ]
  },
  {
   "cell_type": "code",
   "execution_count": 26,
   "metadata": {},
   "outputs": [
    {
     "data": {
      "text/plain": [
       "3235"
      ]
     },
     "execution_count": 26,
     "metadata": {},
     "output_type": "execute_result"
    }
   ],
   "source": [
    "reduce(lambda x, y: x+y, grouped_yes)"
   ]
  },
  {
   "cell_type": "markdown",
   "metadata": {},
   "source": [
    "## Day 7"
   ]
  },
  {
   "cell_type": "markdown",
   "metadata": {},
   "source": [
    "### 7-1"
   ]
  },
  {
   "cell_type": "code",
   "execution_count": 27,
   "metadata": {},
   "outputs": [],
   "source": [
    "# input formatting\n",
    "rules = {}\n",
    "\n",
    "for rule_line in open(\"d07/d07.txt\").read().strip().split(\"\\n\"):\n",
    "    split_rule = split('bags?', sub('contain|,|\\.|\\d', '', rule_line).strip())[:-1]\n",
    "    rules[split_rule[0].strip()] = [item.strip() for item in split_rule[1:]]"
   ]
  },
  {
   "cell_type": "code",
   "execution_count": 28,
   "metadata": {},
   "outputs": [
    {
     "data": {
      "text/plain": [
       "246"
      ]
     },
     "execution_count": 28,
     "metadata": {},
     "output_type": "execute_result"
    }
   ],
   "source": [
    "def update_with_nested_bags(color_set, rule_dict, previous_size):\n",
    "    new_colors = []\n",
    "    \n",
    "    for color in color_set:\n",
    "        for k, v in rule_dict.items():\n",
    "            if color in v:\n",
    "                new_colors.append(k)\n",
    "\n",
    "    color_set.update(new_colors)\n",
    "\n",
    "    if len(color_set) == previous_size:\n",
    "        return color_set\n",
    "    else:\n",
    "        return update_with_nested_bags(color_set, rule_dict, len(color_set))\n",
    "\n",
    "len(update_with_nested_bags({\"shiny gold\"}, rules, 1).difference({\"shiny gold\", \"no other\"}))"
   ]
  },
  {
   "cell_type": "markdown",
   "metadata": {},
   "source": [
    "### 7-2"
   ]
  },
  {
   "cell_type": "code",
   "execution_count": 29,
   "metadata": {},
   "outputs": [],
   "source": [
    "# input formatting\n",
    "rules = {}\n",
    "\n",
    "for rule_line in open(\"d07/d07.txt\").read().strip().split(\"\\n\"):\n",
    "    split_rule = [\n",
    "        rule_sub_item.strip()\n",
    "        for rule_sub_item in split('bags?', sub('contain|,|\\.', '', rule_line).strip())[:-1]\n",
    "    ]\n",
    "    rules[split_rule[0]] = {\n",
    "        reduce(lambda x, y: x+\" \"+y, rule_sub_item.split(\" \")[1:]): int(rule_sub_item.split(\" \")[0])\n",
    "        for rule_sub_item in split_rule[1:]\n",
    "        if rule_sub_item != \"no other\"\n",
    "    }"
   ]
  }
 ],
 "metadata": {
  "kernelspec": {
   "display_name": "Python 3",
   "language": "python",
   "name": "python3"
  },
  "language_info": {
   "codemirror_mode": {
    "name": "ipython",
    "version": 3
   },
   "file_extension": ".py",
   "mimetype": "text/x-python",
   "name": "python",
   "nbconvert_exporter": "python",
   "pygments_lexer": "ipython3",
   "version": "3.7.3"
  }
 },
 "nbformat": 4,
 "nbformat_minor": 4
}
