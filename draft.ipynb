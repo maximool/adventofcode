{
 "cells": [
  {
   "cell_type": "code",
   "execution_count": 1,
   "metadata": {},
   "outputs": [],
   "source": [
    "from csv import reader\n",
    "from functools import reduce\n",
    "from json import dump\n",
    "from pprint import pprint\n",
    "from re import match, split, sub"
   ]
  },
  {
   "cell_type": "code",
   "execution_count": 2,
   "metadata": {},
   "outputs": [],
   "source": [
    "# input formatting\n",
    "rules = {}\n",
    "\n",
    "for rule_line in open(\"d07/d07.txt\").read().strip().split(\"\\n\"):\n",
    "    split_rule = [\n",
    "        rule_sub_item.strip()\n",
    "        for rule_sub_item in split('bags?', sub('contain|,|\\.', '', rule_line).strip())[:-1]\n",
    "    ]\n",
    "    rules[split_rule[0]] = {\n",
    "        reduce(lambda x, y: x+\" \"+y, rule_sub_item.split(\" \")[1:]): int(rule_sub_item.split(\" \")[0])\n",
    "        for rule_sub_item in split_rule[1:]\n",
    "        if rule_sub_item != \"no other\"\n",
    "    }"
   ]
  },
  {
   "cell_type": "code",
   "execution_count": 3,
   "metadata": {},
   "outputs": [
    {
     "data": {
      "text/plain": [
       "246"
      ]
     },
     "execution_count": 3,
     "metadata": {},
     "output_type": "execute_result"
    }
   ],
   "source": [
    "# 7-1\n",
    "def update_with_nested_bags(color_set, rule_dict, previous_size):\n",
    "    new_colors = []\n",
    "    \n",
    "    for color in color_set:\n",
    "        for k in rule_dict:\n",
    "            if color in rule_dict[k].keys():\n",
    "                new_colors.append(k)\n",
    "\n",
    "    color_set.update(new_colors)\n",
    "\n",
    "    if len(color_set) == previous_size:\n",
    "        return color_set\n",
    "    else:\n",
    "        return update_with_nested_bags(color_set, rule_dict, len(color_set))\n",
    "\n",
    "len(update_with_nested_bags({\"shiny gold\"}, rules, 1).difference({\"shiny gold\"}))"
   ]
  },
  {
   "cell_type": "code",
   "execution_count": 4,
   "metadata": {},
   "outputs": [
    {
     "data": {
      "text/plain": [
       "{'shiny gold': {'dark salmon': {'pale turquoise': {'vibrant red': 1},\n",
       "   'faded tan': {'muted plum': {'dull red': {'dotted maroon': 1,\n",
       "      'posh salmon': 1,\n",
       "      'dotted chartreuse': 1,\n",
       "      'dim yellow': {'dotted chartreuse': 1}},\n",
       "     'dotted maroon': 1,\n",
       "     'vibrant red': 1,\n",
       "     'bright chartreuse': {'muted gold': 1, 'dotted maroon': 1}},\n",
       "    'posh salmon': 1},\n",
       "   'mirrored chartreuse': 1},\n",
       "  'wavy purple': {'dim yellow': {'dotted chartreuse': 1}, 'posh salmon': 1},\n",
       "  'dark cyan': {'dotted maroon': 1, 'vibrant red': 1},\n",
       "  'dull chartreuse': {'mirrored black': 1,\n",
       "   'dotted salmon': {'dull red': {'dotted maroon': 1,\n",
       "     'posh salmon': 1,\n",
       "     'dotted chartreuse': 1,\n",
       "     'dim yellow': {'dotted chartreuse': 1}},\n",
       "    'striped salmon': 1,\n",
       "    'dotted maroon': 1,\n",
       "    'shiny red': {'posh salmon': 1, 'dotted chartreuse': 1}},\n",
       "   'pale turquoise': {'vibrant red': 1}}}}"
      ]
     },
     "execution_count": 4,
     "metadata": {},
     "output_type": "execute_result"
    }
   ],
   "source": [
    "# 7-2\n",
    "def create_tree(node: str, rule_dict: dict) -> dict:\n",
    "    if rule_dict[node] == {}:\n",
    "        return 1\n",
    "    else:\n",
    "        return {k: create_tree(k, rule_dict)\n",
    "                for k in rule_dict[node].keys()}\n",
    "\n",
    "shiny_gold_tree = {\"shiny gold\": create_tree(\"shiny gold\", rules)}\n",
    "shiny_gold_tree"
   ]
  }
 ],
 "metadata": {
  "kernelspec": {
   "display_name": "Python 3",
   "language": "python",
   "name": "python3"
  },
  "language_info": {
   "codemirror_mode": {
    "name": "ipython",
    "version": 3
   },
   "file_extension": ".py",
   "mimetype": "text/x-python",
   "name": "python",
   "nbconvert_exporter": "python",
   "pygments_lexer": "ipython3",
   "version": "3.7.3"
  }
 },
 "nbformat": 4,
 "nbformat_minor": 4
}
